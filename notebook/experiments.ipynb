{
 "cells": [
  {
   "cell_type": "code",
   "execution_count": 6,
   "id": "c72639e0",
   "metadata": {},
   "outputs": [
    {
     "name": "stdout",
     "output_type": "stream",
     "text": [
      "AI learns from data to identify patterns and make decisions or predictions.\n"
     ]
    }
   ],
   "source": [
    "from google import genai\n",
    "import os\n",
    "from dotenv import load_dotenv\n",
    "\n",
    "load_dotenv()\n",
    "\n",
    "client = genai.Client()\n",
    "\n",
    "response = client.models.generate_content(\n",
    "    model=\"gemini-2.5-flash\",\n",
    "    contents=\"Explain how AI works in a few words\",\n",
    ")\n",
    "\n",
    "print(response.text)\n"
   ]
  },
  {
   "cell_type": "code",
   "execution_count": 10,
   "id": "7dba5b4f",
   "metadata": {},
   "outputs": [
    {
     "name": "stdout",
     "output_type": "stream",
     "text": [
      "Generating embedding for text using model: **models/text-embedding-004**\n",
      "------------------------------\n",
      "Original Text: **The quick brown fox jumps over...**\n",
      "Embedding Vector Dimension: **1**\n",
      "First 5 dimensions of the embedding vector:\n",
      "[ContentEmbedding(\n",
      "  values=[\n",
      "    -0.06261901,\n",
      "    0.008358474,\n",
      "    0.020931892,\n",
      "    0.023453966,\n",
      "    -0.03660129,\n",
      "    <... 763 more items ...>,\n",
      "  ]\n",
      ")]\n",
      "------------------------------\n"
     ]
    }
   ],
   "source": [
    "EMBEDDING_MODEL = \"models/text-embedding-004\" \n",
    "text_to_embed = \"The quick brown fox jumps over the lazy dog.\"\n",
    "\n",
    "# --- Embedding Generation ---\n",
    "try:\n",
    "    print(f\"Generating embedding for text using model: **{EMBEDDING_MODEL}**\")\n",
    "    \n",
    "    response = client.models.embed_content(\n",
    "        model=EMBEDDING_MODEL,\n",
    "        contents=text_to_embed\n",
    "    )\n",
    "\n",
    "    embedding = response.embeddings\n",
    "    \n",
    "    # --- Output ---\n",
    "    print(\"-\" * 30)\n",
    "    print(f\"Original Text: **{text_to_embed[:30]}...**\")\n",
    "    print(f\"Embedding Vector Dimension: **{len(embedding)}**\")\n",
    "    print(f\"First 5 dimensions of the embedding vector:\")\n",
    "\n",
    "    print(embedding[:5])\n",
    "    print(\"-\" * 30)\n",
    "\n",
    "except Exception as e:\n",
    "    print(f\"\\nAn unexpected error occurred: {e}\")"
   ]
  },
  {
   "cell_type": "code",
   "execution_count": null,
   "id": "6d1844e2",
   "metadata": {},
   "outputs": [],
   "source": []
  }
 ],
 "metadata": {
  "kernelspec": {
   "display_name": "rag",
   "language": "python",
   "name": "python3"
  },
  "language_info": {
   "codemirror_mode": {
    "name": "ipython",
    "version": 3
   },
   "file_extension": ".py",
   "mimetype": "text/x-python",
   "name": "python",
   "nbconvert_exporter": "python",
   "pygments_lexer": "ipython3",
   "version": "3.13.7"
  }
 },
 "nbformat": 4,
 "nbformat_minor": 5
}
